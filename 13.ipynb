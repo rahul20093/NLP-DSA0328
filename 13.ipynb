{
  "nbformat": 4,
  "nbformat_minor": 0,
  "metadata": {
    "colab": {
      "provenance": [],
      "authorship_tag": "ABX9TyOLldJqU96AUYpOUXVTp75d",
      "include_colab_link": true
    },
    "kernelspec": {
      "name": "python3",
      "display_name": "Python 3"
    },
    "language_info": {
      "name": "python"
    }
  },
  "cells": [
    {
      "cell_type": "markdown",
      "metadata": {
        "id": "view-in-github",
        "colab_type": "text"
      },
      "source": [
        "<a href=\"https://colab.research.google.com/github/YUJIHARISH/NLP/blob/main/13.ipynb\" target=\"_parent\"><img src=\"https://colab.research.google.com/assets/colab-badge.svg\" alt=\"Open In Colab\"/></a>"
      ]
    },
    {
      "cell_type": "code",
      "execution_count": 2,
      "metadata": {
        "colab": {
          "base_uri": "https://localhost:8080/"
        },
        "id": "1bBjLr6cRLlq",
        "outputId": "915cbc25-92d0-4fd4-ea7f-95e9b7ac060e"
      },
      "outputs": [
        {
          "output_type": "stream",
          "name": "stdout",
          "text": [
            "           S             \n",
            "  _________|___           \n",
            " |             VP        \n",
            " |     ________|___       \n",
            " |    |            NP    \n",
            " |    |         ___|___   \n",
            " NP   V       Det      N \n",
            " |    |        |       |  \n",
            "John sees     the     dog\n",
            "\n"
          ]
        }
      ],
      "source": [
        "import nltk\n",
        "from nltk import CFG\n",
        "\n",
        "\n",
        "grammar = CFG.fromstring(\"\"\"\n",
        "    S -> NP VP\n",
        "    NP -> Det N | 'John' | 'Alice'\n",
        "    VP -> V NP | V\n",
        "    Det -> 'the' | 'a'\n",
        "    N -> 'dog' | 'cat'\n",
        "    V -> 'chases' | 'sees'\n",
        "\"\"\")\n",
        "\n",
        "parser = nltk.ChartParser(grammar)\n",
        "\n",
        "sentence = \"John sees the dog\".split()\n",
        "\n",
        "for tree in parser.parse(sentence):\n",
        "    tree.pretty_print()\n"
      ]
    }
  ]
}