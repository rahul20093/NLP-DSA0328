{
  "nbformat": 4,
  "nbformat_minor": 0,
  "metadata": {
    "colab": {
      "provenance": [],
      "authorship_tag": "ABX9TyObMPAzbiKzURQInHucy2RC",
      "include_colab_link": true
    },
    "kernelspec": {
      "name": "python3",
      "display_name": "Python 3"
    },
    "language_info": {
      "name": "python"
    }
  },
  "cells": [
    {
      "cell_type": "markdown",
      "metadata": {
        "id": "view-in-github",
        "colab_type": "text"
      },
      "source": [
        "<a href=\"https://colab.research.google.com/github/YUJIHARISH/NLP/blob/main/03.ipynb\" target=\"_parent\"><img src=\"https://colab.research.google.com/assets/colab-badge.svg\" alt=\"Open In Colab\"/></a>"
      ]
    },
    {
      "cell_type": "code",
      "source": [
        "import nltk\n",
        "from nltk.tokenize import word_tokenize\n",
        "\n",
        "# Download the required NLTK data package\n",
        "nltk.download('punkt_tab')  # This downloads the punkt_tab data\n",
        "nltk.download('punkt')\n",
        "nltk.download('wordnet')\n",
        "\n",
        "from nltk.stem import WordNetLemmatizer\n",
        "\n",
        "text = \"The cats are running in the parks with babies\"\n",
        "lemmatizer = WordNetLemmatizer()\n",
        "\n",
        "words = word_tokenize(text)\n",
        "lemmatized_words = [lemmatizer.lemmatize(word) for word in words]\n",
        "\n",
        "print(\"Original words:\", words)\n",
        "print(\"\\nLemmatized words:\", lemmatized_words)\n",
        "\n",
        "morphological_analysis = []\n",
        "for original, lemma in zip(words, lemmatized_words):\n",
        "    if original != lemma:\n",
        "        morphological_analysis.append(f\"{original} -> {lemma}\")\n",
        "\n",
        "print(\"\\nMorphological changes:\")\n",
        "for analysis in morphological_analysis:\n",
        "    print(analysis)"
      ],
      "metadata": {
        "colab": {
          "base_uri": "https://localhost:8080/"
        },
        "id": "JyWV81tv604K",
        "outputId": "c30c279f-9f7c-47e3-ea38-c58263ffc230"
      },
      "execution_count": 2,
      "outputs": [
        {
          "output_type": "stream",
          "name": "stderr",
          "text": [
            "[nltk_data] Downloading package punkt_tab to /root/nltk_data...\n",
            "[nltk_data]   Unzipping tokenizers/punkt_tab.zip.\n",
            "[nltk_data] Downloading package punkt to /root/nltk_data...\n",
            "[nltk_data]   Package punkt is already up-to-date!\n",
            "[nltk_data] Downloading package wordnet to /root/nltk_data...\n",
            "[nltk_data]   Package wordnet is already up-to-date!\n"
          ]
        },
        {
          "output_type": "stream",
          "name": "stdout",
          "text": [
            "Original words: ['The', 'cats', 'are', 'running', 'in', 'the', 'parks', 'with', 'babies']\n",
            "\n",
            "Lemmatized words: ['The', 'cat', 'are', 'running', 'in', 'the', 'park', 'with', 'baby']\n",
            "\n",
            "Morphological changes:\n",
            "cats -> cat\n",
            "parks -> park\n",
            "babies -> baby\n"
          ]
        }
      ]
    }
  ]
}