{
  "nbformat": 4,
  "nbformat_minor": 0,
  "metadata": {
    "colab": {
      "provenance": [],
      "authorship_tag": "ABX9TyPvfqyqZMo/vOa7HSzR8LY4",
      "include_colab_link": true
    },
    "kernelspec": {
      "name": "python3",
      "display_name": "Python 3"
    },
    "language_info": {
      "name": "python"
    }
  },
  "cells": [
    {
      "cell_type": "markdown",
      "metadata": {
        "id": "view-in-github",
        "colab_type": "text"
      },
      "source": [
        "<a href=\"https://colab.research.google.com/github/YUJIHARISH/NLP/blob/main/17.ipynb\" target=\"_parent\"><img src=\"https://colab.research.google.com/assets/colab-badge.svg\" alt=\"Open In Colab\"/></a>"
      ]
    },
    {
      "cell_type": "code",
      "execution_count": 2,
      "metadata": {
        "colab": {
          "base_uri": "https://localhost:8080/"
        },
        "id": "-aj7HeeEYCVx",
        "outputId": "3db6e0f9-933a-4eae-f29d-bf80359d5a63"
      },
      "outputs": [
        {
          "output_type": "stream",
          "name": "stderr",
          "text": [
            "[nltk_data] Downloading package wordnet to /root/nltk_data...\n"
          ]
        },
        {
          "output_type": "stream",
          "name": "stdout",
          "text": [
            "bank.n.01: sloping land (especially the slope beside a body of water)\n",
            "depository_financial_institution.n.01: a financial institution that accepts deposits and channels the money into lending activities\n",
            "bank.n.03: a long ridge or pile\n",
            "bank.n.04: an arrangement of similar objects in a row or in tiers\n",
            "bank.n.05: a supply or stock held in reserve for future use (especially in emergencies)\n",
            "bank.n.06: the funds held by a gambling house or the dealer in some gambling games\n",
            "bank.n.07: a slope in the turn of a road or track; the outside is higher than the inside in order to reduce the effects of centrifugal force\n",
            "savings_bank.n.02: a container (usually with a slot in the top) for keeping money at home\n",
            "bank.n.09: a building in which the business of banking transacted\n",
            "bank.n.10: a flight maneuver; aircraft tips laterally about its longitudinal axis (especially in turning)\n",
            "bank.v.01: tip laterally\n",
            "bank.v.02: enclose with a bank\n",
            "bank.v.03: do business with a bank or keep an account at a bank\n",
            "bank.v.04: act as the banker in a game or in gambling\n",
            "bank.v.05: be in the banking business\n",
            "deposit.v.02: put into a bank account\n",
            "bank.v.07: cover with ashes so to control the rate of burning\n",
            "trust.v.01: have confidence or faith in\n"
          ]
        }
      ],
      "source": [
        "import nltk\n",
        "from nltk.corpus import wordnet\n",
        "\n",
        "nltk.download('wordnet')\n",
        "\n",
        "word = \"bank\"\n",
        "synsets = wordnet.synsets(word)\n",
        "\n",
        "for syn in synsets:\n",
        "    print(f\"{syn.name()}: {syn.definition()}\")\n"
      ]
    }
  ]
}