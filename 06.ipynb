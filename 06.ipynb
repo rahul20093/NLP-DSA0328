{
  "nbformat": 4,
  "nbformat_minor": 0,
  "metadata": {
    "colab": {
      "provenance": [],
      "authorship_tag": "ABX9TyP0/RZwMz9WHenzi+2zT5gQ",
      "include_colab_link": true
    },
    "kernelspec": {
      "name": "python3",
      "display_name": "Python 3"
    },
    "language_info": {
      "name": "python"
    }
  },
  "cells": [
    {
      "cell_type": "markdown",
      "metadata": {
        "id": "view-in-github",
        "colab_type": "text"
      },
      "source": [
        "<a href=\"https://colab.research.google.com/github/YUJIHARISH/NLP/blob/main/06.ipynb\" target=\"_parent\"><img src=\"https://colab.research.google.com/assets/colab-badge.svg\" alt=\"Open In Colab\"/></a>"
      ]
    },
    {
      "cell_type": "code",
      "execution_count": 1,
      "metadata": {
        "colab": {
          "base_uri": "https://localhost:8080/"
        },
        "id": "yJ6vLHUt919l",
        "outputId": "5132f715-d904-4a0f-cd20-4608e9b60923"
      },
      "outputs": [
        {
          "output_type": "stream",
          "name": "stdout",
          "text": [
            "Generated text: the lazy dog the brown dog the brown fox jumps\n"
          ]
        }
      ],
      "source": [
        "import random\n",
        "from collections import defaultdict\n",
        "\n",
        "def build_bigram_model(text):\n",
        "    words = text.split()\n",
        "    bigrams = defaultdict(list)\n",
        "\n",
        "    for i in range(len(words) - 1):\n",
        "        current_word = words[i]\n",
        "        next_word = words[i + 1]\n",
        "        bigrams[current_word].append(next_word)\n",
        "\n",
        "    return bigrams\n",
        "\n",
        "def generate_text(model, start_word, length=10):\n",
        "    current_word = start_word\n",
        "    generated_text = [current_word]\n",
        "\n",
        "    for _ in range(length - 1):\n",
        "        if current_word not in model:\n",
        "            break\n",
        "        next_word = random.choice(model[current_word])\n",
        "        generated_text.append(next_word)\n",
        "        current_word = next_word\n",
        "\n",
        "    return \" \".join(generated_text)\n",
        "\n",
        "text = \"the quick brown fox jumps over the lazy dog the brown dog sleeps\"\n",
        "model = build_bigram_model(text)\n",
        "generated = generate_text(model, \"the\")\n",
        "print(\"Generated text:\", generated)"
      ]
    }
  ]
}