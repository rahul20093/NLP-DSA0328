{
  "nbformat": 4,
  "nbformat_minor": 0,
  "metadata": {
    "colab": {
      "provenance": [],
      "authorship_tag": "ABX9TyPry5AGy5zniL/yCf4oN8cm",
      "include_colab_link": true
    },
    "kernelspec": {
      "name": "python3",
      "display_name": "Python 3"
    },
    "language_info": {
      "name": "python"
    }
  },
  "cells": [
    {
      "cell_type": "markdown",
      "metadata": {
        "id": "view-in-github",
        "colab_type": "text"
      },
      "source": [
        "<a href=\"https://colab.research.google.com/github/YUJIHARISH/NLP/blob/main/12.ipynb\" target=\"_parent\"><img src=\"https://colab.research.google.com/assets/colab-badge.svg\" alt=\"Open In Colab\"/></a>"
      ]
    },
    {
      "cell_type": "code",
      "execution_count": 1,
      "metadata": {
        "colab": {
          "base_uri": "https://localhost:8080/"
        },
        "id": "uoBio_YaQmlF",
        "outputId": "1c721eea-57a9-4dbe-f2cf-9f10cb55d8ef"
      },
      "outputs": [
        {
          "output_type": "stream",
          "name": "stdout",
          "text": [
            "           S             \n",
            "   ________|___           \n",
            "  |            VP        \n",
            "  |     _______|___       \n",
            "  |    |           NP    \n",
            "  |    |        ___|___   \n",
            "  NP   V      Det      N \n",
            "  |    |       |       |  \n",
            "Alice saw     the     dog\n",
            "\n"
          ]
        }
      ],
      "source": [
        "import nltk\n",
        "from nltk import CFG\n",
        "\n",
        "# Define a grammar\n",
        "grammar = CFG.fromstring(\"\"\"\n",
        "    S -> NP VP\n",
        "    NP -> Det N | 'Alice'\n",
        "    VP -> V NP | V\n",
        "    Det -> 'the' | 'a'\n",
        "    N -> 'dog' | 'cat'\n",
        "    V -> 'chased' | 'saw'\n",
        "\"\"\")\n",
        "\n",
        "# Create an Earley parser\n",
        "parser = nltk.EarleyChartParser(grammar)\n",
        "\n",
        "# Parse a sentence\n",
        "sentence = \"Alice saw the dog\".split()\n",
        "for tree in parser.parse(sentence):\n",
        "    tree.pretty_print()\n"
      ]
    }
  ]
}