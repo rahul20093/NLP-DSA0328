{
  "nbformat": 4,
  "nbformat_minor": 0,
  "metadata": {
    "colab": {
      "provenance": [],
      "authorship_tag": "ABX9TyOXND5Iao+Wu38lMbS2Sedf",
      "include_colab_link": true
    },
    "kernelspec": {
      "name": "python3",
      "display_name": "Python 3"
    },
    "language_info": {
      "name": "python"
    }
  },
  "cells": [
    {
      "cell_type": "markdown",
      "metadata": {
        "id": "view-in-github",
        "colab_type": "text"
      },
      "source": [
        "<a href=\"https://colab.research.google.com/github/YUJIHARISH/NLP/blob/main/02.ipynb\" target=\"_parent\"><img src=\"https://colab.research.google.com/assets/colab-badge.svg\" alt=\"Open In Colab\"/></a>"
      ]
    },
    {
      "cell_type": "code",
      "execution_count": 1,
      "metadata": {
        "colab": {
          "base_uri": "https://localhost:8080/"
        },
        "id": "y73J59Tl5R1k",
        "outputId": "7c2bacd5-46a4-4dec-ed03-e707c8356adc"
      },
      "outputs": [
        {
          "output_type": "stream",
          "name": "stdout",
          "text": [
            "String 'ab': Accepted\n",
            "String 'aab': Accepted\n",
            "String 'abc': Accepted\n",
            "String 'babab': Accepted\n",
            "String 'abab': Accepted\n",
            "String 'helloab': Accepted\n"
          ]
        }
      ],
      "source": [
        "class FSA_EndingWithAB:\n",
        "    def __init__(self):\n",
        "        self.state = 0\n",
        "\n",
        "    def transition(self, char):\n",
        "        \"\"\"Handles state transitions based on input character.\"\"\"\n",
        "        if self.state == 0:\n",
        "            if char == 'a':\n",
        "                self.state = 1\n",
        "        elif self.state == 1:\n",
        "            if char == 'b':\n",
        "                self.state = 2\n",
        "            elif char == 'a':\n",
        "                self.state = 1\n",
        "\n",
        "    def is_accepted(self, string):\n",
        "        \"\"\"Checks if the given string is accepted by the FSA.\"\"\"\n",
        "        self.state = 0\n",
        "        for char in string:\n",
        "            self.transition(char)\n",
        "        return self.state == 2\n",
        "\n",
        "fsa = FSA_EndingWithAB()\n",
        "test_strings = [\"ab\", \"aab\", \"abc\", \"babab\", \"abab\", \"helloab\"]\n",
        "\n",
        "for s in test_strings:\n",
        "    result = \"Accepted\" if fsa.is_accepted(s) else \"Rejected\"\n",
        "    print(f\"String '{s}': {result}\")\n"
      ]
    }
  ]
}