{
  "nbformat": 4,
  "nbformat_minor": 0,
  "metadata": {
    "colab": {
      "provenance": [],
      "authorship_tag": "ABX9TyMQVuQIVRF+wg8JtuPmQzdl",
      "include_colab_link": true
    },
    "kernelspec": {
      "name": "python3",
      "display_name": "Python 3"
    },
    "language_info": {
      "name": "python"
    }
  },
  "cells": [
    {
      "cell_type": "markdown",
      "metadata": {
        "id": "view-in-github",
        "colab_type": "text"
      },
      "source": [
        "<a href=\"https://colab.research.google.com/github/YUJIHARISH/NLP/blob/main/14.ipynb\" target=\"_parent\"><img src=\"https://colab.research.google.com/assets/colab-badge.svg\" alt=\"Open In Colab\"/></a>"
      ]
    },
    {
      "cell_type": "code",
      "execution_count": 1,
      "metadata": {
        "colab": {
          "base_uri": "https://localhost:8080/"
        },
        "id": "oRGh7cQNSFjh",
        "outputId": "f4689dd9-d27c-40dd-bd18-2887203820e6"
      },
      "outputs": [
        {
          "output_type": "stream",
          "name": "stdout",
          "text": [
            "Valid: he is\n",
            "     S       \n",
            "  ___|____    \n",
            " |        VP \n",
            " |        |   \n",
            " NP     Vsing\n",
            " |        |   \n",
            " he       is \n",
            "\n",
            "Valid: they are\n",
            "      S     \n",
            "  ____|___   \n",
            " |        VP\n",
            " |        |  \n",
            " NP      Vpl\n",
            " |        |  \n",
            "they     are\n",
            "\n",
            "Valid: it eat\n",
            "     S     \n",
            "  ___|___   \n",
            " |       VP\n",
            " |       |  \n",
            " NP     Vpl\n",
            " |       |  \n",
            " it     eat\n",
            "\n",
            "Valid: we is\n",
            "     S       \n",
            "  ___|____    \n",
            " |        VP \n",
            " |        |   \n",
            " NP     Vsing\n",
            " |        |   \n",
            " we       is \n",
            "\n"
          ]
        }
      ],
      "source": [
        "import nltk\n",
        "from nltk import CFG\n",
        "\n",
        "# Define grammar with subject-verb agreement\n",
        "grammar = CFG.fromstring(\"\"\"\n",
        "    S -> NP VP\n",
        "    NP -> 'he' | 'she' | 'it' | 'they' | 'we'\n",
        "    VP -> Vsing | Vpl\n",
        "    Vsing -> 'is' | 'eats'\n",
        "    Vpl -> 'are' | 'eat'\n",
        "\"\"\")\n",
        "\n",
        "# Create a parser\n",
        "parser = nltk.ChartParser(grammar)\n",
        "\n",
        "# Test sentences\n",
        "sentences = [\"he is\", \"they are\", \"it eat\", \"we is\"]\n",
        "\n",
        "for sentence in sentences:\n",
        "    words = sentence.split()\n",
        "    try:\n",
        "        for tree in parser.parse(words):\n",
        "            print(f\"Valid: {sentence}\")\n",
        "            tree.pretty_print()\n",
        "    except ValueError:\n",
        "        print(f\"Invalid: {sentence}\")\n"
      ]
    }
  ]
}