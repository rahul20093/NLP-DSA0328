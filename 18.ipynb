{
  "nbformat": 4,
  "nbformat_minor": 0,
  "metadata": {
    "colab": {
      "provenance": [],
      "authorship_tag": "ABX9TyPKEJjMgl7oJBpJ6qrvgHuY",
      "include_colab_link": true
    },
    "kernelspec": {
      "name": "python3",
      "display_name": "Python 3"
    },
    "language_info": {
      "name": "python"
    }
  },
  "cells": [
    {
      "cell_type": "markdown",
      "metadata": {
        "id": "view-in-github",
        "colab_type": "text"
      },
      "source": [
        "<a href=\"https://colab.research.google.com/github/YUJIHARISH/NLP/blob/main/18.ipynb\" target=\"_parent\"><img src=\"https://colab.research.google.com/assets/colab-badge.svg\" alt=\"Open In Colab\"/></a>"
      ]
    },
    {
      "cell_type": "code",
      "execution_count": 1,
      "metadata": {
        "colab": {
          "base_uri": "https://localhost:8080/"
        },
        "id": "vyP3iAn-ZZnk",
        "outputId": "35a6be18-560e-4c9a-d472-24a695309930"
      },
      "outputs": [
        {
          "output_type": "stream",
          "name": "stdout",
          "text": [
            "Invalid expression\n"
          ]
        }
      ],
      "source": [
        "import re\n",
        "\n",
        "def parse_fopc(expression):\n",
        "    pattern = r'(\\w+)\\((\\w+),(\\w+)\\)'\n",
        "    match = re.match(pattern, expression)\n",
        "\n",
        "    if match:\n",
        "        print(f\"Predicate: {match.group(1)}, Arguments: {match.group(2)}, {match.group(3)}\")\n",
        "    else:\n",
        "        print(\"Invalid expression\")\n",
        "\n",
        "parse_fopc(\"Loves(John, Mary)\")\n",
        "\n"
      ]
    }
  ]
}