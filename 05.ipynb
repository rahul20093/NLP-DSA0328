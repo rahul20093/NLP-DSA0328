{
  "nbformat": 4,
  "nbformat_minor": 0,
  "metadata": {
    "colab": {
      "provenance": [],
      "authorship_tag": "ABX9TyM6tzaxVvH9sYAuS+5JSDZ2",
      "include_colab_link": true
    },
    "kernelspec": {
      "name": "python3",
      "display_name": "Python 3"
    },
    "language_info": {
      "name": "python"
    }
  },
  "cells": [
    {
      "cell_type": "markdown",
      "metadata": {
        "id": "view-in-github",
        "colab_type": "text"
      },
      "source": [
        "<a href=\"https://colab.research.google.com/github/YUJIHARISH/NLP/blob/main/05.ipynb\" target=\"_parent\"><img src=\"https://colab.research.google.com/assets/colab-badge.svg\" alt=\"Open In Colab\"/></a>"
      ]
    },
    {
      "cell_type": "code",
      "execution_count": 1,
      "metadata": {
        "colab": {
          "base_uri": "https://localhost:8080/"
        },
        "id": "lmPqwwyQ84X9",
        "outputId": "516b4151-f47b-431d-d2cc-4bd75d811ab3"
      },
      "outputs": [
        {
          "output_type": "stream",
          "name": "stderr",
          "text": [
            "[nltk_data] Downloading package punkt to /root/nltk_data...\n",
            "[nltk_data]   Unzipping tokenizers/punkt.zip.\n"
          ]
        },
        {
          "output_type": "stream",
          "name": "stdout",
          "text": [
            "Word -> Stem\n",
            "--------------------\n",
            "running -> run\n",
            "fishing -> fish\n",
            "played -> play\n",
            "games -> game\n",
            "better -> better\n",
            "beautiful -> beauti\n"
          ]
        }
      ],
      "source": [
        "import nltk\n",
        "from nltk.stem import PorterStemmer\n",
        "nltk.download('punkt')\n",
        "\n",
        "stemmer = PorterStemmer()\n",
        "words = [\"running\", \"fishing\", \"played\", \"games\", \"better\", \"beautiful\"]\n",
        "\n",
        "stemmed_words = [(word, stemmer.stem(word)) for word in words]\n",
        "\n",
        "print(\"Word -> Stem\")\n",
        "print(\"-\" * 20)\n",
        "for original, stemmed in stemmed_words:\n",
        "    print(f\"{original} -> {stemmed}\")"
      ]
    }
  ]
}