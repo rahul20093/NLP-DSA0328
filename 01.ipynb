{
  "nbformat": 4,
  "nbformat_minor": 0,
  "metadata": {
    "colab": {
      "provenance": [],
      "authorship_tag": "ABX9TyMD0F3wNjY5UiKWPdb6SZ2b",
      "include_colab_link": true
    },
    "kernelspec": {
      "name": "python3",
      "display_name": "Python 3"
    },
    "language_info": {
      "name": "python"
    }
  },
  "cells": [
    {
      "cell_type": "markdown",
      "metadata": {
        "id": "view-in-github",
        "colab_type": "text"
      },
      "source": [
        "<a href=\"https://colab.research.google.com/github/YUJIHARISH/NLP/blob/main/01.ipynb\" target=\"_parent\"><img src=\"https://colab.research.google.com/assets/colab-badge.svg\" alt=\"Open In Colab\"/></a>"
      ]
    },
    {
      "cell_type": "code",
      "execution_count": 1,
      "metadata": {
        "colab": {
          "base_uri": "https://localhost:8080/"
        },
        "id": "f5yWcc6N4RaM",
        "outputId": "d2afc325-2623-439d-b9d3-f0904c5c4ce2"
      },
      "outputs": [
        {
          "output_type": "stream",
          "name": "stdout",
          "text": [
            "Words starting with 'T': ['The', 'The']\n",
            "Numbers found: ['12345']\n",
            "Word 'fox' found at position: 16\n"
          ]
        }
      ],
      "source": [
        "import re\n",
        "\n",
        "text = \"The quick brown fox jumps over the lazy dog. The number is 12345.\"\n",
        "pattern1 = r\"\\bT\\w+\"\n",
        "pattern2 = r\"\\d+\"\n",
        "pattern3 = r\"fox\"\n",
        "\n",
        "matches1 = re.findall(pattern1, text)\n",
        "matches2 = re.findall(pattern2, text)\n",
        "\n",
        "match3 = re.search(pattern3, text)\n",
        "\n",
        "print(\"Words starting with 'T':\", matches1)\n",
        "print(\"Numbers found:\", matches2)\n",
        "\n",
        "if match3:\n",
        "    print(f\"Word 'fox' found at position: {match3.start()}\")\n",
        "else:\n",
        "    print(\"Word 'fox' not found.\")\n"
      ]
    }
  ]
}