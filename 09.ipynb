{
  "nbformat": 4,
  "nbformat_minor": 0,
  "metadata": {
    "colab": {
      "provenance": [],
      "authorship_tag": "ABX9TyPqUqmVRNOPVEnren5SJ7ip",
      "include_colab_link": true
    },
    "kernelspec": {
      "name": "python3",
      "display_name": "Python 3"
    },
    "language_info": {
      "name": "python"
    }
  },
  "cells": [
    {
      "cell_type": "markdown",
      "metadata": {
        "id": "view-in-github",
        "colab_type": "text"
      },
      "source": [
        "<a href=\"https://colab.research.google.com/github/YUJIHARISH/NLP/blob/main/09.ipynb\" target=\"_parent\"><img src=\"https://colab.research.google.com/assets/colab-badge.svg\" alt=\"Open In Colab\"/></a>"
      ]
    },
    {
      "cell_type": "code",
      "execution_count": 1,
      "metadata": {
        "colab": {
          "base_uri": "https://localhost:8080/"
        },
        "id": "uEH09n_VAHg_",
        "outputId": "593eba3a-b396-4a79-e809-e01dcbeea143"
      },
      "outputs": [
        {
          "output_type": "stream",
          "name": "stdout",
          "text": [
            "Word -> POS Tag\n",
            "--------------------\n",
            "The -> DT\n",
            "running -> VBG\n",
            "cat -> NN\n",
            "jumped -> VBD\n",
            "quickly -> RB\n"
          ]
        }
      ],
      "source": [
        "import re\n",
        "\n",
        "def rule_based_tagger(word):\n",
        "    if re.match(r'^(the|a|an)$', word.lower()):\n",
        "        return 'DT'\n",
        "    elif re.match(r'.*ing$', word):\n",
        "        return 'VBG'\n",
        "    elif re.match(r'.*ed$', word):\n",
        "        return 'VBD'\n",
        "    elif re.match(r'.*ly$', word):\n",
        "        return 'RB'\n",
        "    elif re.match(r'.*s$', word):\n",
        "        return 'NNS'\n",
        "    else:\n",
        "        return 'NN'\n",
        "\n",
        "sentence = \"The running cat jumped quickly\".split()\n",
        "tagged_sentence = [(word, rule_based_tagger(word)) for word in sentence]\n",
        "\n",
        "print(\"Word -> POS Tag\")\n",
        "print(\"-\" * 20)\n",
        "for word, tag in tagged_sentence:\n",
        "    print(f\"{word} -> {tag}\")"
      ]
    }
  ]
}