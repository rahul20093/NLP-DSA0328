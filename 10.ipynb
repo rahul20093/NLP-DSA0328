{
  "nbformat": 4,
  "nbformat_minor": 0,
  "metadata": {
    "colab": {
      "provenance": [],
      "authorship_tag": "ABX9TyM0JYPVIGSCmEof1atrbmGV",
      "include_colab_link": true
    },
    "kernelspec": {
      "name": "python3",
      "display_name": "Python 3"
    },
    "language_info": {
      "name": "python"
    }
  },
  "cells": [
    {
      "cell_type": "markdown",
      "metadata": {
        "id": "view-in-github",
        "colab_type": "text"
      },
      "source": [
        "<a href=\"https://colab.research.google.com/github/YUJIHARISH/NLP/blob/main/10.ipynb\" target=\"_parent\"><img src=\"https://colab.research.google.com/assets/colab-badge.svg\" alt=\"Open In Colab\"/></a>"
      ]
    },
    {
      "cell_type": "code",
      "execution_count": 1,
      "metadata": {
        "colab": {
          "base_uri": "https://localhost:8080/"
        },
        "id": "AG2u58ciAl9a",
        "outputId": "39f3af49-2c77-496d-ac4b-b9e037149349"
      },
      "outputs": [
        {
          "output_type": "stream",
          "name": "stdout",
          "text": [
            "Word -> POS Tag\n",
            "--------------------\n",
            "The -> DT\n",
            "running -> NN\n",
            "cat -> NN\n",
            "quickly -> RB\n",
            "jumps -> NN\n"
          ]
        }
      ],
      "source": [
        "def initial_tag(word):\n",
        "    return 'NN'\n",
        "\n",
        "def apply_transformations(sentence):\n",
        "    words = sentence.split()\n",
        "    tags = [initial_tag(word) for word in words]\n",
        "\n",
        "    for i in range(len(words)):\n",
        "        word = words[i].lower()\n",
        "        if word in ['the', 'a', 'an']:\n",
        "            tags[i] = 'DT'\n",
        "        elif i > 0 and tags[i-1] == 'DT':\n",
        "            tags[i] = 'NN'\n",
        "        elif word.endswith('ly'):\n",
        "            tags[i] = 'RB'\n",
        "        elif word.endswith('ing'):\n",
        "            tags[i] = 'VBG'\n",
        "\n",
        "    return list(zip(words, tags))\n",
        "\n",
        "sentence = \"The running cat quickly jumps\"\n",
        "tagged_sentence = apply_transformations(sentence)\n",
        "\n",
        "print(\"Word -> POS Tag\")\n",
        "print(\"-\" * 20)\n",
        "for word, tag in tagged_sentence:\n",
        "    print(f\"{word} -> {tag}\")"
      ]
    }
  ]
}