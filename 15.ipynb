{
  "nbformat": 4,
  "nbformat_minor": 0,
  "metadata": {
    "colab": {
      "provenance": [],
      "authorship_tag": "ABX9TyPtJkZaedLpIWSmYQQAbxyn",
      "include_colab_link": true
    },
    "kernelspec": {
      "name": "python3",
      "display_name": "Python 3"
    },
    "language_info": {
      "name": "python"
    }
  },
  "cells": [
    {
      "cell_type": "markdown",
      "metadata": {
        "id": "view-in-github",
        "colab_type": "text"
      },
      "source": [
        "<a href=\"https://colab.research.google.com/github/YUJIHARISH/NLP/blob/main/15.ipynb\" target=\"_parent\"><img src=\"https://colab.research.google.com/assets/colab-badge.svg\" alt=\"Open In Colab\"/></a>"
      ]
    },
    {
      "cell_type": "code",
      "execution_count": 1,
      "metadata": {
        "colab": {
          "base_uri": "https://localhost:8080/"
        },
        "id": "BJlSi1E5VdeP",
        "outputId": "0c3b9cce-37c6-4a0c-b289-9d82d9d3fb19"
      },
      "outputs": [
        {
          "output_type": "stream",
          "name": "stdout",
          "text": [
            "           S             \n",
            "  _________|___           \n",
            " |             VP        \n",
            " |     ________|___       \n",
            " |    |            NP    \n",
            " |    |         ___|___   \n",
            " NP   V       Det      N \n",
            " |    |        |       |  \n",
            "John sees     the     dog\n",
            "\n"
          ]
        }
      ],
      "source": [
        "import nltk\n",
        "from nltk.grammar import PCFG\n",
        "\n",
        "# Define PCFG\n",
        "pcfg_grammar = PCFG.fromstring(\"\"\"\n",
        "    S -> NP VP [1.0]\n",
        "    NP -> Det N [0.5] | 'John' [0.5]\n",
        "    VP -> V NP [1.0]\n",
        "    Det -> 'the' [1.0]\n",
        "    N -> 'dog' [1.0]\n",
        "    V -> 'sees' [1.0]\n",
        "\"\"\")\n",
        "\n",
        "# Create a Viterbi parser\n",
        "parser = nltk.ViterbiParser(pcfg_grammar)\n",
        "\n",
        "# Parse sentence\n",
        "sentence = \"John sees the dog\".split()\n",
        "for tree in parser.parse(sentence):\n",
        "    tree.pretty_print()\n"
      ]
    }
  ]
}