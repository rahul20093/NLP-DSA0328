{
  "nbformat": 4,
  "nbformat_minor": 0,
  "metadata": {
    "colab": {
      "provenance": [],
      "authorship_tag": "ABX9TyOppDfm41nHnr36a4ytHz0v",
      "include_colab_link": true
    },
    "kernelspec": {
      "name": "python3",
      "display_name": "Python 3"
    },
    "language_info": {
      "name": "python"
    }
  },
  "cells": [
    {
      "cell_type": "markdown",
      "metadata": {
        "id": "view-in-github",
        "colab_type": "text"
      },
      "source": [
        "<a href=\"https://colab.research.google.com/github/YUJIHARISH/NLP/blob/main/20.ipynb\" target=\"_parent\"><img src=\"https://colab.research.google.com/assets/colab-badge.svg\" alt=\"Open In Colab\"/></a>"
      ]
    },
    {
      "cell_type": "code",
      "execution_count": 1,
      "metadata": {
        "colab": {
          "base_uri": "https://localhost:8080/"
        },
        "id": "FxWfSiJfa1RL",
        "outputId": "dfeea31b-eea6-41fd-c555-52195066df8a"
      },
      "outputs": [
        {
          "output_type": "stream",
          "name": "stdout",
          "text": [
            "[[0.         0.40352536 0.         0.         0.53058735 0.40352536\n",
            "  0.         0.         0.62674687 0.        ]\n",
            " [0.         0.         0.3564574  0.46869865 0.         0.3564574\n",
            "  0.46869865 0.         0.55364194 0.        ]\n",
            " [0.42439575 0.32276391 0.32276391 0.         0.         0.\n",
            "  0.         0.42439575 0.50130994 0.42439575]]\n"
          ]
        }
      ],
      "source": [
        "from sklearn.feature_extraction.text import TfidfVectorizer\n",
        "\n",
        "documents = [\n",
        "    \"The cat in the hat.\",\n",
        "    \"The dog is in the garden.\",\n",
        "    \"The cat and the dog play together.\"\n",
        "]\n",
        "\n",
        "vectorizer = TfidfVectorizer()\n",
        "tfidf_matrix = vectorizer.fit_transform(documents)\n",
        "\n",
        "print(tfidf_matrix.toarray())\n"
      ]
    }
  ]
}